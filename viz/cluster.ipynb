{
 "cells": [
  {
   "cell_type": "code",
   "execution_count": 1,
   "metadata": {},
   "outputs": [],
   "source": [
    "import pandas as pd\n",
    "from utils import get_dfs, extract_classes"
   ]
  },
  {
   "cell_type": "code",
   "execution_count": 2,
   "metadata": {},
   "outputs": [],
   "source": [
    "hdf_file_path = \"../data/20221029-171117.hdf5\"\n",
    "(df_raw, df_events, df_filtered, df_bands) = get_dfs(hdf_file_path)"
   ]
  },
  {
   "cell_type": "code",
   "execution_count": null,
   "metadata": {},
   "outputs": [],
   "source": []
  },
  {
   "cell_type": "code",
   "execution_count": null,
   "metadata": {},
   "outputs": [],
   "source": [
    "wid = 30\n",
    "\n",
    "df_lag = datasets_dic['bands'].copy()\n",
    "for i in range(1,wid):\n",
    "    df_lag = df_lag.merge(datasets_dic['bands'].shift(i), how='inner', left_index=True, right_index=True, suffixes=('',f'_{i:02d}'))"
   ]
  }
 ],
 "metadata": {
  "kernelspec": {
   "display_name": "Python 3.8.12 64-bit ('3.8.12')",
   "language": "python",
   "name": "python3"
  },
  "language_info": {
   "codemirror_mode": {
    "name": "ipython",
    "version": 3
   },
   "file_extension": ".py",
   "mimetype": "text/x-python",
   "name": "python",
   "nbconvert_exporter": "python",
   "pygments_lexer": "ipython3",
   "version": "3.8.12"
  },
  "orig_nbformat": 4,
  "vscode": {
   "interpreter": {
    "hash": "e9ed0ad7719f06f089edc3238a8d86e962d4ca50119a2518cf9af3ef9ae01f6d"
   }
  }
 },
 "nbformat": 4,
 "nbformat_minor": 2
}
