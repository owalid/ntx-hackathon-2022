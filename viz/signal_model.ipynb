{
 "cells": [
  {
   "cell_type": "markdown",
   "id": "b28de924",
   "metadata": {},
   "source": [
    "# Roshambo game : offline preliminary analysis"
   ]
  },
  {
   "cell_type": "markdown",
   "id": "703c02e7",
   "metadata": {},
   "source": [
    "## Load the recorded data "
   ]
  },
  {
   "cell_type": "code",
   "execution_count": 57,
   "id": "48daa8a3",
   "metadata": {},
   "outputs": [],
   "source": [
    "filenames = ['clem_allonge_20221029-192231.hdf5','clem_assis_20221029-200201.hdf5','delph_allongee_20221029-170143.hdf5',\n",
    "            'delph_allongee_20221029-171117.hdf5','delph_assis_20221029-202757.hdf5','othmane_assis_ECG_20221029-223628.hdf5',\n",
    "            'othmane_assis_EEG_20221029-231521.hdf5']"
   ]
  },
  {
   "cell_type": "code",
   "execution_count": 58,
   "id": "3f3dba53",
   "metadata": {},
   "outputs": [
    {
     "data": {
      "text/plain": [
       "((100, 2), (5092, 6), array(['\"repos\"', '\"calme\"', '\"agite\"'], dtype=object))"
      ]
     },
     "execution_count": 58,
     "metadata": {},
     "output_type": "execute_result"
    }
   ],
   "source": [
    "import pandas as pd\n",
    "import json\n",
    "\n",
    "df_filtered, events = pd.DataFrame(), pd.DataFrame()\n",
    "\n",
    "for f in filenames:\n",
    "    fname = f'data/{f}'\n",
    "    df_filtered = pd.concat([df_filtered, pd.read_hdf(fname, \"/filtered\").merge(pd.read_hdf(fname, \"/bands\"), how='inner', left_index=True, right_index=True)])\n",
    "    events = pd.concat([events, pd.read_hdf(fname, \"/events\")])\n",
    "\n",
    "for ff, tt in [['\"rapide\"', '\"agite\"'],['\"lent\"', '\"calme\"']]:\n",
    "    events.data = events.data.apply(lambda d: d.replace(ff,tt))\n",
    "\n",
    "events = events.loc[events.data.isin(['\"repos\"','\"calme\"','\"agite\"'])]\n",
    "classes = events.data.unique()\n",
    "\n",
    "events['data'] = events.data.apply(lambda d: json.dumps({\"id\":d}))\n",
    "\n",
    "df_filtered.sort_index(inplace = True)\n",
    "events.sort_index(inplace = True)\n",
    "events.shape, df_filtered.shape, classes"
   ]
  },
  {
   "cell_type": "markdown",
   "id": "ae78e512",
   "metadata": {},
   "source": [
    "## Implement the estimator to extract the features "
   ]
  },
  {
   "cell_type": "code",
   "execution_count": 59,
   "id": "2f304a79",
   "metadata": {},
   "outputs": [],
   "source": [
    "import numpy as np\n",
    "from sklearn.base import BaseEstimator, TransformerMixin\n",
    "from sklearn.utils.validation import check_array\n",
    "\n",
    "class EMGFeatures(BaseEstimator, TransformerMixin):\n",
    "    \"\"\"EMG Temporal features\"\"\"\n",
    "    def fit(self, X, y=None):\n",
    "        \"\"\"\"\"\"\n",
    "        return self\n",
    "\n",
    "    def transform(self, X):\n",
    "        \"\"\"Extract EMG temporal features\n",
    "        Parameters\n",
    "        ----------\n",
    "        X : ndarray, shape (n_trials, n_samples, n_channels)\n",
    "            Data to extract features from\n",
    "        Returns\n",
    "        -------\n",
    "        features : ndarray, shape (n_trials, n_features)\n",
    "            Temporal features\n",
    "        \"\"\"\n",
    "        X = check_array(X, allow_nd=True)\n",
    "        shapeX = X.shape\n",
    "\n",
    "        if len(shapeX) == 3:\n",
    "            Nt, Ns, Ne = shapeX\n",
    "        else:\n",
    "            raise ValueError(\"X.shape should be (n_trials, n_samples, n_electrodes).\")\n",
    "        \n",
    "        features = np.hstack([np.max(X, axis=1), np.std(X, axis=1), np.apply_along_axis(self._zero_crossing_rate, 1, X)])\n",
    "        return features\n",
    "\n",
    "    def fit_transform(self, X, y=None):\n",
    "        \"\"\"\n",
    "        Parameters\n",
    "        ----------\n",
    "        X : ndarray, shape (n_trials,  n_samples, n_channels)\n",
    "            Data to extract features from\n",
    "        y : ndarray, shape (n_trials,) | None, optional\n",
    "            labels corresponding to each trial, not used (mentioned for sklearn comp)\n",
    "        Returns\n",
    "        -------\n",
    "        X : ndarray, shape (n_trials, n_features)\n",
    "            Temporal features\n",
    "        \"\"\"\n",
    "        self.fit(X, y)\n",
    "        return self.transform(X)\n",
    "    \n",
    "    @staticmethod\n",
    "    def _zero_crossing_rate(x):\n",
    "        return len(np.where(np.diff(np.sign(x)))[0]) / len(x)"
   ]
  },
  {
   "cell_type": "code",
   "execution_count": 60,
   "id": "6c439757",
   "metadata": {},
   "outputs": [],
   "source": [
    "from timeflux.nodes.epoch import Epoch\n",
    "after, before = -3.0, 25.0\n",
    "\n",
    "epoch = Epoch(before=before, after=after, event_trigger=\"start\")\n",
    "epoch.i.data = df_filtered\n",
    "epoch.i_events.data = events\n",
    "epoch.update()"
   ]
  },
  {
   "cell_type": "code",
   "execution_count": 61,
   "id": "44419bc6",
   "metadata": {},
   "outputs": [],
   "source": [
    "epochs = []\n",
    "labels = []\n",
    "for port_name, _, port in epoch.iterate():\n",
    "    label = port.meta.get(\"epoch\", {}).get(\"context\", {}).get(\"id\")\n",
    "    if label:\n",
    "        epochs.append(port.data) \n",
    "        labels.append(label)"
   ]
  },
  {
   "cell_type": "code",
   "execution_count": 62,
   "id": "d957eb4e",
   "metadata": {},
   "outputs": [
    {
     "name": "stdout",
     "output_type": "stream",
     "text": [
      "(89, 22, 6)\n"
     ]
    }
   ],
   "source": [
    "X = np.stack([epoch.values for epoch in epochs  if epoch.values.shape == (int(after+before),6)])\n",
    "print(X.shape)\n",
    "features = EMGFeatures().transform(X)\n",
    "# df_features = pd.DataFrame(features, columns=[\"A1_max\", \"A2_max\", \"A1_std\", \"A2_std\", \"A1_zcr\", \"A2_zcr\"])\n",
    "df_features = pd.DataFrame(features, columns=[f'{f}_{i}' for i in range(3) for f in df_filtered.keys()])\n",
    "df_features[\"label\"] = [label for idx, label in enumerate(labels) if [epoch.values.shape == (int(after+before),6) for epoch in epochs][idx]]"
   ]
  },
  {
   "cell_type": "markdown",
   "id": "cd1adef0",
   "metadata": {},
   "source": [
    "## Visualize the features distributions"
   ]
  },
  {
   "cell_type": "code",
   "execution_count": 63,
   "id": "95922f88",
   "metadata": {},
   "outputs": [],
   "source": [
    "import seaborn as sns\n",
    "# _=sns.pairplot(df_features, hue='label')  "
   ]
  },
  {
   "cell_type": "markdown",
   "id": "8a9e6286",
   "metadata": {},
   "source": [
    "## See how it classifies the classes "
   ]
  },
  {
   "cell_type": "code",
   "execution_count": 64,
   "id": "1fbf64d3",
   "metadata": {},
   "outputs": [],
   "source": [
    "from sklearn.pipeline import Pipeline\n",
    "from sklearn.preprocessing import Normalizer\n",
    "from sklearn.neighbors import KNeighborsClassifier\n",
    "from sklearn.cluster import KMeans\n",
    "from xgboost import XGBClassifier\n",
    "\n",
    "pipeline = Pipeline(\n",
    "  steps=[\n",
    "    ('features', EMGFeatures()),\n",
    "    ('norm', Normalizer()),\n",
    "    # ('classifier', KNeighborsClassifier())\n",
    "    # ('classifier', KMeans(n_clusters=len(classes), init='random',n_init=10, max_iter=300, tol=1e-04, random_state=0))\n",
    "    ('classifier', XGBClassifier(use_label_encoder=False, eval_metric=['error','logloss','auc'], objective='binary:logistic' if len(classes) == 2 else 'multi:softproba', n_estimators=2500, max_depth=7, reg_alpha=1e-4, n_jobs=-1))\n",
    "  ]\n",
    ")"
   ]
  },
  {
   "cell_type": "code",
   "execution_count": 65,
   "id": "2c1392f1",
   "metadata": {},
   "outputs": [],
   "source": [
    "label_encoder = {label: code for code, label in enumerate(set(df_features.label))}\n",
    "y = np.array([label_encoder[label] for label in df_features.label.values])\n",
    "\n",
    "# fit on first 12, and predict last 8\n",
    "n_train = int(len(X)*.8)\n",
    "pipeline.fit(X[:n_train,:], y[:n_train])\n",
    "y_pred = pipeline.predict(X[n_train:, :])\n",
    "try: y_score = pipeline.predict_proba(X[n_train:, :])\n",
    "except: y_score=None\n",
    "y_true = y[n_train:]"
   ]
  },
  {
   "cell_type": "code",
   "execution_count": 66,
   "id": "9de88ddb",
   "metadata": {},
   "outputs": [
    {
     "data": {
      "image/png": "[encoded data removed]",
      "text/plain": [
       "<Figure size 640x480 with 2 Axes>"
      ]
     },
     "metadata": {},
     "output_type": "display_data"
    }
   ],
   "source": [
    "from sklearn.metrics import confusion_matrix, ConfusionMatrixDisplay\n",
    "cm = confusion_matrix(y_true, y_pred)\n",
    "_=ConfusionMatrixDisplay(cm, display_labels=list(label_encoder.keys())).plot()"
   ]
  },
  {
   "cell_type": "code",
   "execution_count": 67,
   "id": "19bc2e22",
   "metadata": {},
   "outputs": [
    {
     "name": "stdout",
     "output_type": "stream",
     "text": [
      "\n",
      "==================     Metrics Report    ================\n",
      "\n",
      "\u001b[96mSpearmnr score (っಠ‿ಠ)っ\t51.30\n",
      "Accuracy Score         :\t55.56\n",
      "auc score              :\t58.37\n",
      "log loss               :\t118.38\n",
      "precision score        :\t54.17\n",
      "recall score           :\t56.03\n",
      "f1 score               :\t51.07\n",
      "\n",
      "              precision    recall  f1-score   support\n",
      "\n",
      "     \"repos\"       0.62      0.71      0.67         7\n",
      "     \"calme\"       0.50      0.17      0.25         6\n",
      "     \"agite\"       0.50      0.80      0.62         5\n",
      "\n",
      "    accuracy                           0.56        18\n",
      "   macro avg       0.54      0.56      0.51        18\n",
      "weighted avg       0.55      0.56      0.51        18\n",
      "\u001b[0m\n"
     ]
    }
   ],
   "source": [
    "from sklearn.metrics import accuracy_score, f1_score, confusion_matrix, classification_report, roc_auc_score, \\\n",
    "                            precision_score, recall_score, log_loss, average_precision_score, auc, roc_curve\n",
    "from scipy import stats\n",
    "\n",
    "def accuracy_classification_report(y_test, y_pred, y_score, classes, msg = '', filename=''):\n",
    "  confusion_mtx = {\n",
    "                    'y_Actual': np.array(y_test),\n",
    "                    'y_Predicted': y_pred\n",
    "                }\n",
    "\n",
    "  confusion_df = pd.DataFrame(confusion_mtx, columns=['y_Actual','y_Predicted'])    \n",
    "\n",
    "  metrics = {}\n",
    "\n",
    "  metrics['spearmanr']       = 100 * (stats.spearmanr(confusion_df['y_Actual'], confusion_df['y_Predicted']))[0]\n",
    "  metrics['accuracy']        = 100 * accuracy_score(confusion_df['y_Actual'], confusion_df['y_Predicted'])\n",
    "  if len(np.unique(confusion_df['y_Actual']))== 2:\n",
    "    metrics['auc score']       = 100 * roc_auc_score(confusion_df['y_Actual'], y_pred, average='macro')\n",
    "  else:\n",
    "    metrics['auc score']       = -1 if y_score is None else 100 * roc_auc_score(confusion_df['y_Actual'], y_score, multi_class='ovr', average='macro')\n",
    "  metrics['log loss']        = -1 if y_score is None else 100 * log_loss(confusion_df['y_Actual'], y_score)\n",
    "  metrics['precision score'] = 100 * precision_score(confusion_df['y_Actual'], confusion_df['y_Predicted'], average='macro')\n",
    "  metrics['recall score']    = 100 * recall_score(confusion_df['y_Actual'], confusion_df['y_Predicted'], average='macro')\n",
    "  metrics['f1 score']        = 100 * f1_score(confusion_df['y_Actual'], confusion_df['y_Predicted'], average='macro')\n",
    "\n",
    "  output_metrics  = f\"Spearmnr score (っಠ‿ಠ)っ\\t{metrics['spearmanr']:.2f}\\n\"\n",
    "  output_metrics += f\"Accuracy Score         :\\t{metrics['accuracy']:.2f}\\n\"\n",
    "  output_metrics += f\"auc score              :\\t{metrics['auc score']:.2f}\\n\"\n",
    "  output_metrics += f\"log loss               :\\t{metrics['log loss']:.2f}\\n\"\n",
    "  output_metrics += f\"precision score        :\\t{metrics['precision score']:.2f}\\n\"\n",
    "  output_metrics += f\"recall score           :\\t{metrics['recall score']:.2f}\\n\"\n",
    "  output_metrics += f\"f1 score               :\\t{metrics['f1 score']:.2f}\\n\\n\"\n",
    "  output_metrics += f\"{classification_report(confusion_df['y_Actual'], confusion_df['y_Predicted'], target_names=classes)}\"\n",
    "\n",
    "  print(f'\\n==================     {msg}    ================\\n\\n\\033[96m{output_metrics}\\033[0m')\n",
    "\n",
    "  return metrics\n",
    "\n",
    "_ = accuracy_classification_report(y_true, y_pred, y_score, classes, msg = 'Metrics Report')"
   ]
  }
 ],
 "metadata": {
  "kernelspec": {
   "display_name": "Python 3.9.13 ('timeflux')",
   "language": "python",
   "name": "python3"
  },
  "language_info": {
   "codemirror_mode": {
    "name": "ipython",
    "version": 3
   },
   "file_extension": ".py",
   "mimetype": "text/x-python",
   "name": "python",
   "nbconvert_exporter": "python",
   "pygments_lexer": "ipython3",
   "version": "3.9.13"
  },
  "vscode": {
   "interpreter": {
    "hash": "b0b8536c6d88a22d8cf1d877227068c534e1460a3b75a4682f86a4d787fc9976"
   }
  }
 },
 "nbformat": 4,
 "nbformat_minor": 5
}
